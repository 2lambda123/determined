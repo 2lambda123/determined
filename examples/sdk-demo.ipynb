{
 "cells": [
  {
   "cell_type": "code",
   "execution_count": 2,
   "id": "80aceff8",
   "metadata": {},
   "outputs": [],
   "source": [
    "from determined.experimental import client\n",
    "from determined.common.experimental import trial"
   ]
  },
  {
   "cell_type": "code",
   "execution_count": 3,
   "id": "7a5685ac",
   "metadata": {},
   "outputs": [],
   "source": [
    " client.login(master='latest-main.determined.ai:8080', user='determined', password='')"
   ]
  },
  {
   "cell_type": "code",
   "execution_count": null,
   "id": "e7ad3fc7",
   "metadata": {},
   "outputs": [],
   "source": [
    "# TODO: demonstrate interesting stuff\n",
    "my_trials = client.get_experiment(2819).get_trials()"
   ]
  }
 ],
 "metadata": {
  "kernelspec": {
   "display_name": "Python 3 (ipykernel)",
   "language": "python",
   "name": "python3"
  },
  "language_info": {
   "codemirror_mode": {
    "name": "ipython",
    "version": 3
   },
   "file_extension": ".py",
   "mimetype": "text/x-python",
   "name": "python",
   "nbconvert_exporter": "python",
   "pygments_lexer": "ipython3",
   "version": "3.8.16"
  }
 },
 "nbformat": 4,
 "nbformat_minor": 5
}
